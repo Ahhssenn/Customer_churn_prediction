{
 "cells": [
  {
   "cell_type": "markdown",
   "id": "0663edfb",
   "metadata": {},
   "source": [
    "# Telecom Customer Churn Analysis\n",
    "\n",
    "**Name:** Mian Ahsan Jan  \n",
    "**Date:** 18/05/2025  \n",
    "**GitHub:** [Ahhssenn](https://github.com/Ahhssenn)  \n",
    "**Email:** Ahsenjan@gmail.com\n",
    "\n",
    "---\n",
    "\n",
    "### Project Overview\n",
    "\n",
    "This project explores a **Telecom Customer Churn Dataset** to understand the factors that contribute to customer churn. The goal is to perform **Exploratory Data Analysis (EDA)** and apply basic **machine learning techniques** to predict whether a customer is likely to churn.\n",
    "\n",
    "Through this project, we aim to:\n",
    "\n",
    "- Identify patterns and trends in customer behavior.\n",
    "- Understand which services and demographics are linked to higher churn rates.\n",
    "- Build and evaluate a classification model to predict churn.\n",
    "\n",
    "The project is structured step-by-step to demonstrate the data science workflow clearly and effectively.\n"
   ]
  },
  {
   "cell_type": "code",
   "execution_count": 2,
   "id": "fc2925da",
   "metadata": {},
   "outputs": [],
   "source": [
    "import pandas as pd\n",
    "import numpy as np\n",
    "import matplotlib.pyplot as plt\n",
    "import seaborn as sns\n",
    "from sklearn.model_selection import train_test_split\n",
    "from sklearn.linear_model import LogisticRegression\n",
    "from sklearn.ensemble import RandomForestClassifier\n",
    "from sklearn.svm import SVC\n",
    "from sklearn.neighbors import KNeighborsClassifier\n",
    "from sklearn.metrics import confusion_matrix,accuracy_score,f1_score,recall_score,precision_score,ConfusionMatrixDisplay\n",
    "from sklearn.preprocessing import StandardScaler\n",
    "from sklearn.tree import DecisionTreeClassifier\n",
    "from sklearn.model_selection import GridSearchCV"
   ]
  },
  {
   "cell_type": "code",
   "execution_count": 3,
   "id": "b4152469",
   "metadata": {},
   "outputs": [
    {
     "data": {
      "application/vnd.microsoft.datawrangler.viewer.v0+json": {
       "columns": [
        {
         "name": "index",
         "rawType": "int64",
         "type": "integer"
        },
        {
         "name": "customerID",
         "rawType": "object",
         "type": "string"
        },
        {
         "name": "gender",
         "rawType": "object",
         "type": "string"
        },
        {
         "name": "SeniorCitizen",
         "rawType": "int64",
         "type": "integer"
        },
        {
         "name": "Partner",
         "rawType": "object",
         "type": "string"
        },
        {
         "name": "Dependents",
         "rawType": "object",
         "type": "string"
        },
        {
         "name": "tenure",
         "rawType": "int64",
         "type": "integer"
        },
        {
         "name": "PhoneService",
         "rawType": "object",
         "type": "string"
        },
        {
         "name": "MultipleLines",
         "rawType": "object",
         "type": "string"
        },
        {
         "name": "InternetService",
         "rawType": "object",
         "type": "string"
        },
        {
         "name": "OnlineSecurity",
         "rawType": "object",
         "type": "string"
        },
        {
         "name": "OnlineBackup",
         "rawType": "object",
         "type": "string"
        },
        {
         "name": "DeviceProtection",
         "rawType": "object",
         "type": "string"
        },
        {
         "name": "TechSupport",
         "rawType": "object",
         "type": "string"
        },
        {
         "name": "StreamingTV",
         "rawType": "object",
         "type": "string"
        },
        {
         "name": "StreamingMovies",
         "rawType": "object",
         "type": "string"
        },
        {
         "name": "Contract",
         "rawType": "object",
         "type": "string"
        },
        {
         "name": "PaperlessBilling",
         "rawType": "object",
         "type": "string"
        },
        {
         "name": "PaymentMethod",
         "rawType": "object",
         "type": "string"
        },
        {
         "name": "MonthlyCharges",
         "rawType": "float64",
         "type": "float"
        },
        {
         "name": "TotalCharges",
         "rawType": "object",
         "type": "string"
        },
        {
         "name": "Churn",
         "rawType": "object",
         "type": "string"
        }
       ],
       "ref": "866cfdda-f3de-4752-848f-a892695c4d97",
       "rows": [
        [
         "5532",
         "8174-LNWMW",
         "Female",
         "0",
         "No",
         "No",
         "31",
         "Yes",
         "No",
         "No",
         "No internet service",
         "No internet service",
         "No internet service",
         "No internet service",
         "No internet service",
         "No internet service",
         "Two year",
         "No",
         "Credit card (automatic)",
         "20.9",
         "689.35",
         "No"
        ],
        [
         "5430",
         "6331-LWDTQ",
         "Male",
         "0",
         "No",
         "No",
         "10",
         "Yes",
         "Yes",
         "DSL",
         "No",
         "No",
         "No",
         "No",
         "Yes",
         "Yes",
         "Month-to-month",
         "Yes",
         "Credit card (automatic)",
         "72.15",
         "794.25",
         "Yes"
        ],
        [
         "5210",
         "2794-XIMMO",
         "Male",
         "0",
         "Yes",
         "No",
         "53",
         "No",
         "No phone service",
         "DSL",
         "No",
         "Yes",
         "Yes",
         "Yes",
         "Yes",
         "Yes",
         "One year",
         "Yes",
         "Electronic check",
         "60.45",
         "3184.25",
         "Yes"
        ],
        [
         "1687",
         "8332-OSJDW",
         "Male",
         "0",
         "Yes",
         "Yes",
         "12",
         "Yes",
         "Yes",
         "No",
         "No internet service",
         "No internet service",
         "No internet service",
         "No internet service",
         "No internet service",
         "No internet service",
         "One year",
         "No",
         "Mailed check",
         "26.4",
         "314.95",
         "No"
        ],
        [
         "5823",
         "9867-NNXLC",
         "Female",
         "0",
         "No",
         "No",
         "22",
         "Yes",
         "No",
         "No",
         "No internet service",
         "No internet service",
         "No internet service",
         "No internet service",
         "No internet service",
         "No internet service",
         "Month-to-month",
         "Yes",
         "Mailed check",
         "20.05",
         "470.2",
         "No"
        ]
       ],
       "shape": {
        "columns": 21,
        "rows": 5
       }
      },
      "text/html": [
       "<div>\n",
       "<style scoped>\n",
       "    .dataframe tbody tr th:only-of-type {\n",
       "        vertical-align: middle;\n",
       "    }\n",
       "\n",
       "    .dataframe tbody tr th {\n",
       "        vertical-align: top;\n",
       "    }\n",
       "\n",
       "    .dataframe thead th {\n",
       "        text-align: right;\n",
       "    }\n",
       "</style>\n",
       "<table border=\"1\" class=\"dataframe\">\n",
       "  <thead>\n",
       "    <tr style=\"text-align: right;\">\n",
       "      <th></th>\n",
       "      <th>customerID</th>\n",
       "      <th>gender</th>\n",
       "      <th>SeniorCitizen</th>\n",
       "      <th>Partner</th>\n",
       "      <th>Dependents</th>\n",
       "      <th>tenure</th>\n",
       "      <th>PhoneService</th>\n",
       "      <th>MultipleLines</th>\n",
       "      <th>InternetService</th>\n",
       "      <th>OnlineSecurity</th>\n",
       "      <th>...</th>\n",
       "      <th>DeviceProtection</th>\n",
       "      <th>TechSupport</th>\n",
       "      <th>StreamingTV</th>\n",
       "      <th>StreamingMovies</th>\n",
       "      <th>Contract</th>\n",
       "      <th>PaperlessBilling</th>\n",
       "      <th>PaymentMethod</th>\n",
       "      <th>MonthlyCharges</th>\n",
       "      <th>TotalCharges</th>\n",
       "      <th>Churn</th>\n",
       "    </tr>\n",
       "  </thead>\n",
       "  <tbody>\n",
       "    <tr>\n",
       "      <th>5532</th>\n",
       "      <td>8174-LNWMW</td>\n",
       "      <td>Female</td>\n",
       "      <td>0</td>\n",
       "      <td>No</td>\n",
       "      <td>No</td>\n",
       "      <td>31</td>\n",
       "      <td>Yes</td>\n",
       "      <td>No</td>\n",
       "      <td>No</td>\n",
       "      <td>No internet service</td>\n",
       "      <td>...</td>\n",
       "      <td>No internet service</td>\n",
       "      <td>No internet service</td>\n",
       "      <td>No internet service</td>\n",
       "      <td>No internet service</td>\n",
       "      <td>Two year</td>\n",
       "      <td>No</td>\n",
       "      <td>Credit card (automatic)</td>\n",
       "      <td>20.90</td>\n",
       "      <td>689.35</td>\n",
       "      <td>No</td>\n",
       "    </tr>\n",
       "    <tr>\n",
       "      <th>5430</th>\n",
       "      <td>6331-LWDTQ</td>\n",
       "      <td>Male</td>\n",
       "      <td>0</td>\n",
       "      <td>No</td>\n",
       "      <td>No</td>\n",
       "      <td>10</td>\n",
       "      <td>Yes</td>\n",
       "      <td>Yes</td>\n",
       "      <td>DSL</td>\n",
       "      <td>No</td>\n",
       "      <td>...</td>\n",
       "      <td>No</td>\n",
       "      <td>No</td>\n",
       "      <td>Yes</td>\n",
       "      <td>Yes</td>\n",
       "      <td>Month-to-month</td>\n",
       "      <td>Yes</td>\n",
       "      <td>Credit card (automatic)</td>\n",
       "      <td>72.15</td>\n",
       "      <td>794.25</td>\n",
       "      <td>Yes</td>\n",
       "    </tr>\n",
       "    <tr>\n",
       "      <th>5210</th>\n",
       "      <td>2794-XIMMO</td>\n",
       "      <td>Male</td>\n",
       "      <td>0</td>\n",
       "      <td>Yes</td>\n",
       "      <td>No</td>\n",
       "      <td>53</td>\n",
       "      <td>No</td>\n",
       "      <td>No phone service</td>\n",
       "      <td>DSL</td>\n",
       "      <td>No</td>\n",
       "      <td>...</td>\n",
       "      <td>Yes</td>\n",
       "      <td>Yes</td>\n",
       "      <td>Yes</td>\n",
       "      <td>Yes</td>\n",
       "      <td>One year</td>\n",
       "      <td>Yes</td>\n",
       "      <td>Electronic check</td>\n",
       "      <td>60.45</td>\n",
       "      <td>3184.25</td>\n",
       "      <td>Yes</td>\n",
       "    </tr>\n",
       "    <tr>\n",
       "      <th>1687</th>\n",
       "      <td>8332-OSJDW</td>\n",
       "      <td>Male</td>\n",
       "      <td>0</td>\n",
       "      <td>Yes</td>\n",
       "      <td>Yes</td>\n",
       "      <td>12</td>\n",
       "      <td>Yes</td>\n",
       "      <td>Yes</td>\n",
       "      <td>No</td>\n",
       "      <td>No internet service</td>\n",
       "      <td>...</td>\n",
       "      <td>No internet service</td>\n",
       "      <td>No internet service</td>\n",
       "      <td>No internet service</td>\n",
       "      <td>No internet service</td>\n",
       "      <td>One year</td>\n",
       "      <td>No</td>\n",
       "      <td>Mailed check</td>\n",
       "      <td>26.40</td>\n",
       "      <td>314.95</td>\n",
       "      <td>No</td>\n",
       "    </tr>\n",
       "    <tr>\n",
       "      <th>5823</th>\n",
       "      <td>9867-NNXLC</td>\n",
       "      <td>Female</td>\n",
       "      <td>0</td>\n",
       "      <td>No</td>\n",
       "      <td>No</td>\n",
       "      <td>22</td>\n",
       "      <td>Yes</td>\n",
       "      <td>No</td>\n",
       "      <td>No</td>\n",
       "      <td>No internet service</td>\n",
       "      <td>...</td>\n",
       "      <td>No internet service</td>\n",
       "      <td>No internet service</td>\n",
       "      <td>No internet service</td>\n",
       "      <td>No internet service</td>\n",
       "      <td>Month-to-month</td>\n",
       "      <td>Yes</td>\n",
       "      <td>Mailed check</td>\n",
       "      <td>20.05</td>\n",
       "      <td>470.2</td>\n",
       "      <td>No</td>\n",
       "    </tr>\n",
       "  </tbody>\n",
       "</table>\n",
       "<p>5 rows × 21 columns</p>\n",
       "</div>"
      ],
      "text/plain": [
       "      customerID  gender  SeniorCitizen Partner Dependents  tenure  \\\n",
       "5532  8174-LNWMW  Female              0      No         No      31   \n",
       "5430  6331-LWDTQ    Male              0      No         No      10   \n",
       "5210  2794-XIMMO    Male              0     Yes         No      53   \n",
       "1687  8332-OSJDW    Male              0     Yes        Yes      12   \n",
       "5823  9867-NNXLC  Female              0      No         No      22   \n",
       "\n",
       "     PhoneService     MultipleLines InternetService       OnlineSecurity  ...  \\\n",
       "5532          Yes                No              No  No internet service  ...   \n",
       "5430          Yes               Yes             DSL                   No  ...   \n",
       "5210           No  No phone service             DSL                   No  ...   \n",
       "1687          Yes               Yes              No  No internet service  ...   \n",
       "5823          Yes                No              No  No internet service  ...   \n",
       "\n",
       "         DeviceProtection          TechSupport          StreamingTV  \\\n",
       "5532  No internet service  No internet service  No internet service   \n",
       "5430                   No                   No                  Yes   \n",
       "5210                  Yes                  Yes                  Yes   \n",
       "1687  No internet service  No internet service  No internet service   \n",
       "5823  No internet service  No internet service  No internet service   \n",
       "\n",
       "          StreamingMovies        Contract PaperlessBilling  \\\n",
       "5532  No internet service        Two year               No   \n",
       "5430                  Yes  Month-to-month              Yes   \n",
       "5210                  Yes        One year              Yes   \n",
       "1687  No internet service        One year               No   \n",
       "5823  No internet service  Month-to-month              Yes   \n",
       "\n",
       "                PaymentMethod MonthlyCharges  TotalCharges Churn  \n",
       "5532  Credit card (automatic)          20.90        689.35    No  \n",
       "5430  Credit card (automatic)          72.15        794.25   Yes  \n",
       "5210         Electronic check          60.45       3184.25   Yes  \n",
       "1687             Mailed check          26.40        314.95    No  \n",
       "5823             Mailed check          20.05         470.2    No  \n",
       "\n",
       "[5 rows x 21 columns]"
      ]
     },
     "execution_count": 3,
     "metadata": {},
     "output_type": "execute_result"
    }
   ],
   "source": [
    "df = pd.read_csv('WA_Fn-UseC_-Telco-Customer-Churn.csv')\n",
    "df.sample(5)"
   ]
  },
  {
   "cell_type": "code",
   "execution_count": 4,
   "id": "de9e633d",
   "metadata": {},
   "outputs": [
    {
     "data": {
      "application/vnd.microsoft.datawrangler.viewer.v0+json": {
       "columns": [
        {
         "name": "index",
         "rawType": "object",
         "type": "string"
        },
        {
         "name": "0",
         "rawType": "float64",
         "type": "float"
        }
       ],
       "ref": "cb351d30-aa85-42f0-8090-15cd6eb4bdf0",
       "rows": [
        [
         "customerID",
         "0.0"
        ],
        [
         "gender",
         "0.0"
        ],
        [
         "SeniorCitizen",
         "0.0"
        ],
        [
         "Partner",
         "0.0"
        ],
        [
         "Dependents",
         "0.0"
        ],
        [
         "tenure",
         "0.0"
        ],
        [
         "PhoneService",
         "0.0"
        ],
        [
         "MultipleLines",
         "0.0"
        ],
        [
         "InternetService",
         "0.0"
        ],
        [
         "OnlineSecurity",
         "0.0"
        ],
        [
         "OnlineBackup",
         "0.0"
        ],
        [
         "DeviceProtection",
         "0.0"
        ],
        [
         "TechSupport",
         "0.0"
        ],
        [
         "StreamingTV",
         "0.0"
        ],
        [
         "StreamingMovies",
         "0.0"
        ],
        [
         "Contract",
         "0.0"
        ],
        [
         "PaperlessBilling",
         "0.0"
        ],
        [
         "PaymentMethod",
         "0.0"
        ],
        [
         "MonthlyCharges",
         "0.0"
        ],
        [
         "TotalCharges",
         "0.0"
        ],
        [
         "Churn",
         "0.0"
        ]
       ],
       "shape": {
        "columns": 1,
        "rows": 21
       }
      },
      "text/plain": [
       "customerID          0.0\n",
       "gender              0.0\n",
       "SeniorCitizen       0.0\n",
       "Partner             0.0\n",
       "Dependents          0.0\n",
       "tenure              0.0\n",
       "PhoneService        0.0\n",
       "MultipleLines       0.0\n",
       "InternetService     0.0\n",
       "OnlineSecurity      0.0\n",
       "OnlineBackup        0.0\n",
       "DeviceProtection    0.0\n",
       "TechSupport         0.0\n",
       "StreamingTV         0.0\n",
       "StreamingMovies     0.0\n",
       "Contract            0.0\n",
       "PaperlessBilling    0.0\n",
       "PaymentMethod       0.0\n",
       "MonthlyCharges      0.0\n",
       "TotalCharges        0.0\n",
       "Churn               0.0\n",
       "dtype: float64"
      ]
     },
     "execution_count": 4,
     "metadata": {},
     "output_type": "execute_result"
    }
   ],
   "source": [
    "df.isnull().sum() / len(df) * 100"
   ]
  },
  {
   "cell_type": "code",
   "execution_count": 5,
   "id": "c7d59c12",
   "metadata": {},
   "outputs": [
    {
     "data": {
      "text/plain": [
       "(7043, 21)"
      ]
     },
     "execution_count": 5,
     "metadata": {},
     "output_type": "execute_result"
    }
   ],
   "source": [
    "df.shape"
   ]
  },
  {
   "cell_type": "code",
   "execution_count": 6,
   "id": "96406caa",
   "metadata": {},
   "outputs": [
    {
     "name": "stdout",
     "output_type": "stream",
     "text": [
      "<class 'pandas.core.frame.DataFrame'>\n",
      "RangeIndex: 7043 entries, 0 to 7042\n",
      "Data columns (total 21 columns):\n",
      " #   Column            Non-Null Count  Dtype  \n",
      "---  ------            --------------  -----  \n",
      " 0   customerID        7043 non-null   object \n",
      " 1   gender            7043 non-null   object \n",
      " 2   SeniorCitizen     7043 non-null   int64  \n",
      " 3   Partner           7043 non-null   object \n",
      " 4   Dependents        7043 non-null   object \n",
      " 5   tenure            7043 non-null   int64  \n",
      " 6   PhoneService      7043 non-null   object \n",
      " 7   MultipleLines     7043 non-null   object \n",
      " 8   InternetService   7043 non-null   object \n",
      " 9   OnlineSecurity    7043 non-null   object \n",
      " 10  OnlineBackup      7043 non-null   object \n",
      " 11  DeviceProtection  7043 non-null   object \n",
      " 12  TechSupport       7043 non-null   object \n",
      " 13  StreamingTV       7043 non-null   object \n",
      " 14  StreamingMovies   7043 non-null   object \n",
      " 15  Contract          7043 non-null   object \n",
      " 16  PaperlessBilling  7043 non-null   object \n",
      " 17  PaymentMethod     7043 non-null   object \n",
      " 18  MonthlyCharges    7043 non-null   float64\n",
      " 19  TotalCharges      7043 non-null   object \n",
      " 20  Churn             7043 non-null   object \n",
      "dtypes: float64(1), int64(2), object(18)\n",
      "memory usage: 1.1+ MB\n"
     ]
    }
   ],
   "source": [
    "df.info()"
   ]
  },
  {
   "cell_type": "code",
   "execution_count": 7,
   "id": "653bd5ba",
   "metadata": {},
   "outputs": [
    {
     "data": {
      "application/vnd.microsoft.datawrangler.viewer.v0+json": {
       "columns": [
        {
         "name": "index",
         "rawType": "object",
         "type": "string"
        },
        {
         "name": "SeniorCitizen",
         "rawType": "float64",
         "type": "float"
        },
        {
         "name": "tenure",
         "rawType": "float64",
         "type": "float"
        },
        {
         "name": "MonthlyCharges",
         "rawType": "float64",
         "type": "float"
        }
       ],
       "ref": "8eb2e792-3908-4bb2-88f4-c51f09878847",
       "rows": [
        [
         "count",
         "7043.0",
         "7043.0",
         "7043.0"
        ],
        [
         "mean",
         "0.1621468124378816",
         "32.37114865824223",
         "64.76169246059918"
        ],
        [
         "std",
         "0.3686116056100131",
         "24.55948102309446",
         "30.090047097678493"
        ],
        [
         "min",
         "0.0",
         "0.0",
         "18.25"
        ],
        [
         "25%",
         "0.0",
         "9.0",
         "35.5"
        ],
        [
         "50%",
         "0.0",
         "29.0",
         "70.35"
        ],
        [
         "75%",
         "0.0",
         "55.0",
         "89.85"
        ],
        [
         "max",
         "1.0",
         "72.0",
         "118.75"
        ]
       ],
       "shape": {
        "columns": 3,
        "rows": 8
       }
      },
      "text/html": [
       "<div>\n",
       "<style scoped>\n",
       "    .dataframe tbody tr th:only-of-type {\n",
       "        vertical-align: middle;\n",
       "    }\n",
       "\n",
       "    .dataframe tbody tr th {\n",
       "        vertical-align: top;\n",
       "    }\n",
       "\n",
       "    .dataframe thead th {\n",
       "        text-align: right;\n",
       "    }\n",
       "</style>\n",
       "<table border=\"1\" class=\"dataframe\">\n",
       "  <thead>\n",
       "    <tr style=\"text-align: right;\">\n",
       "      <th></th>\n",
       "      <th>SeniorCitizen</th>\n",
       "      <th>tenure</th>\n",
       "      <th>MonthlyCharges</th>\n",
       "    </tr>\n",
       "  </thead>\n",
       "  <tbody>\n",
       "    <tr>\n",
       "      <th>count</th>\n",
       "      <td>7043.000000</td>\n",
       "      <td>7043.000000</td>\n",
       "      <td>7043.000000</td>\n",
       "    </tr>\n",
       "    <tr>\n",
       "      <th>mean</th>\n",
       "      <td>0.162147</td>\n",
       "      <td>32.371149</td>\n",
       "      <td>64.761692</td>\n",
       "    </tr>\n",
       "    <tr>\n",
       "      <th>std</th>\n",
       "      <td>0.368612</td>\n",
       "      <td>24.559481</td>\n",
       "      <td>30.090047</td>\n",
       "    </tr>\n",
       "    <tr>\n",
       "      <th>min</th>\n",
       "      <td>0.000000</td>\n",
       "      <td>0.000000</td>\n",
       "      <td>18.250000</td>\n",
       "    </tr>\n",
       "    <tr>\n",
       "      <th>25%</th>\n",
       "      <td>0.000000</td>\n",
       "      <td>9.000000</td>\n",
       "      <td>35.500000</td>\n",
       "    </tr>\n",
       "    <tr>\n",
       "      <th>50%</th>\n",
       "      <td>0.000000</td>\n",
       "      <td>29.000000</td>\n",
       "      <td>70.350000</td>\n",
       "    </tr>\n",
       "    <tr>\n",
       "      <th>75%</th>\n",
       "      <td>0.000000</td>\n",
       "      <td>55.000000</td>\n",
       "      <td>89.850000</td>\n",
       "    </tr>\n",
       "    <tr>\n",
       "      <th>max</th>\n",
       "      <td>1.000000</td>\n",
       "      <td>72.000000</td>\n",
       "      <td>118.750000</td>\n",
       "    </tr>\n",
       "  </tbody>\n",
       "</table>\n",
       "</div>"
      ],
      "text/plain": [
       "       SeniorCitizen       tenure  MonthlyCharges\n",
       "count    7043.000000  7043.000000     7043.000000\n",
       "mean        0.162147    32.371149       64.761692\n",
       "std         0.368612    24.559481       30.090047\n",
       "min         0.000000     0.000000       18.250000\n",
       "25%         0.000000     9.000000       35.500000\n",
       "50%         0.000000    29.000000       70.350000\n",
       "75%         0.000000    55.000000       89.850000\n",
       "max         1.000000    72.000000      118.750000"
      ]
     },
     "execution_count": 7,
     "metadata": {},
     "output_type": "execute_result"
    }
   ],
   "source": [
    "df.describe()"
   ]
  },
  {
   "cell_type": "code",
   "execution_count": 8,
   "id": "bd3cc51b",
   "metadata": {},
   "outputs": [
    {
     "data": {
      "application/vnd.microsoft.datawrangler.viewer.v0+json": {
       "columns": [
        {
         "name": "index",
         "rawType": "object",
         "type": "string"
        },
        {
         "name": "0",
         "rawType": "int64",
         "type": "integer"
        }
       ],
       "ref": "74b08b69-6b8d-4612-b4f4-878f2453016b",
       "rows": [
        [
         "customerID",
         "7043"
        ],
        [
         "gender",
         "2"
        ],
        [
         "SeniorCitizen",
         "2"
        ],
        [
         "Partner",
         "2"
        ],
        [
         "Dependents",
         "2"
        ],
        [
         "tenure",
         "73"
        ],
        [
         "PhoneService",
         "2"
        ],
        [
         "MultipleLines",
         "3"
        ],
        [
         "InternetService",
         "3"
        ],
        [
         "OnlineSecurity",
         "3"
        ],
        [
         "OnlineBackup",
         "3"
        ],
        [
         "DeviceProtection",
         "3"
        ],
        [
         "TechSupport",
         "3"
        ],
        [
         "StreamingTV",
         "3"
        ],
        [
         "StreamingMovies",
         "3"
        ],
        [
         "Contract",
         "3"
        ],
        [
         "PaperlessBilling",
         "2"
        ],
        [
         "PaymentMethod",
         "4"
        ],
        [
         "MonthlyCharges",
         "1585"
        ],
        [
         "TotalCharges",
         "6531"
        ],
        [
         "Churn",
         "2"
        ]
       ],
       "shape": {
        "columns": 1,
        "rows": 21
       }
      },
      "text/plain": [
       "customerID          7043\n",
       "gender                 2\n",
       "SeniorCitizen          2\n",
       "Partner                2\n",
       "Dependents             2\n",
       "tenure                73\n",
       "PhoneService           2\n",
       "MultipleLines          3\n",
       "InternetService        3\n",
       "OnlineSecurity         3\n",
       "OnlineBackup           3\n",
       "DeviceProtection       3\n",
       "TechSupport            3\n",
       "StreamingTV            3\n",
       "StreamingMovies        3\n",
       "Contract               3\n",
       "PaperlessBilling       2\n",
       "PaymentMethod          4\n",
       "MonthlyCharges      1585\n",
       "TotalCharges        6531\n",
       "Churn                  2\n",
       "dtype: int64"
      ]
     },
     "execution_count": 8,
     "metadata": {},
     "output_type": "execute_result"
    }
   ],
   "source": [
    "df.nunique()"
   ]
  },
  {
   "cell_type": "code",
   "execution_count": 9,
   "id": "1ef91839",
   "metadata": {},
   "outputs": [
    {
     "name": "stdout",
     "output_type": "stream",
     "text": [
      "object\n"
     ]
    }
   ],
   "source": [
    "print(df['TotalCharges'].dtype) # total charges is an object which means it has some non-numeric values which can be missing values or spaces\n"
   ]
  },
  {
   "cell_type": "code",
   "execution_count": 10,
   "id": "c56b60f6",
   "metadata": {},
   "outputs": [],
   "source": [
    "df['TotalCharges'] = pd.to_numeric(df['TotalCharges'], errors='coerce') # convert to numeric and set errors='coerce' to convert non-numeric values to NaN"
   ]
  },
  {
   "cell_type": "code",
   "execution_count": 11,
   "id": "122b97c9",
   "metadata": {},
   "outputs": [
    {
     "data": {
      "text/plain": [
       "np.int64(11)"
      ]
     },
     "execution_count": 11,
     "metadata": {},
     "output_type": "execute_result"
    }
   ],
   "source": [
    "df['TotalCharges'].isna().sum() # Check for missing values again.\n"
   ]
  },
  {
   "cell_type": "code",
   "execution_count": 12,
   "id": "605f3f99",
   "metadata": {},
   "outputs": [],
   "source": [
    "df = df.dropna(subset=['TotalCharges'])"
   ]
  },
  {
   "cell_type": "markdown",
   "id": "f1d05ff4",
   "metadata": {},
   "source": [
    "# Applying EDA to the data"
   ]
  },
  {
   "cell_type": "code",
   "execution_count": 13,
   "id": "7c0a0ad6",
   "metadata": {},
   "outputs": [
    {
     "data": {
      "text/plain": [
       "array([[<Axes: title={'center': 'MonthlyCharges'}>]], dtype=object)"
      ]
     },
     "execution_count": 13,
     "metadata": {},
     "output_type": "execute_result"
    },
    {
     "data": {
      "image/png": "[encoded data removed]",
      "text/plain": [
       "<Figure size 640x480 with 1 Axes>"
      ]
     },
     "metadata": {},
     "output_type": "display_data"
    }
   ],
   "source": [
    "df.hist(column= 'MonthlyCharges', bins=25, grid=False)"
   ]
  },
  {
   "cell_type": "markdown",
   "id": "289ac5ad",
   "metadata": {},
   "source": [
    "- The histogram on monthly charges shows a right skewed distribution.\n",
    "- Most customers pay around 20$ to 30$ and has a large spike in this range\n",
    "- There is steady spread accross higher charges, and fewer people pay above 100$\n",
    "- This may indicate that many people are on basic or promotional packages , and there is small number of people that uses premium services"
   ]
  },
  {
   "cell_type": "code",
   "execution_count": 14,
   "id": "7036e98d",
   "metadata": {},
   "outputs": [
    {
     "data": {
      "text/plain": [
       "Text(0.5, 1.0, 'Gender vs Churn')"
      ]
     },
     "execution_count": 14,
     "metadata": {},
     "output_type": "execute_result"
    },
    {
     "data": {
      "image/png": "[encoded data removed]",
      "text/plain": [
       "<Figure size 640x480 with 1 Axes>"
      ]
     },
     "metadata": {},
     "output_type": "display_data"
    }
   ],
   "source": [
    "sns.countplot(x='gender', data=df, hue='Churn', palette='Set2')\n",
    "plt.title('Gender vs Churn')"
   ]
  },
  {
   "cell_type": "markdown",
   "id": "b50c13d0",
   "metadata": {},
   "source": [
    "- There is no noticable difference in the number of people chunred based on gender.\n",
    "- The number of men and women chunred is almost the same.\n",
    "- Also those who stayed is also the same.However the male number is slightly higher than female number."
   ]
  },
  {
   "cell_type": "code",
   "execution_count": 15,
   "id": "36dcdbe4",
   "metadata": {},
   "outputs": [
    {
     "data": {
      "text/plain": [
       "Text(0.5, 1.0, 'Internet Service vs Churn')"
      ]
     },
     "execution_count": 15,
     "metadata": {},
     "output_type": "execute_result"
    },
    {
     "data": {
      "image/png": "[encoded data removed]",
      "text/plain": [
       "<Figure size 640x480 with 1 Axes>"
      ]
     },
     "metadata": {},
     "output_type": "display_data"
    }
   ],
   "source": [
    "sns.countplot(x='InternetService', data=df, hue='Churn', palette='Set2')\n",
    "plt.title('Internet Service vs Churn')"
   ]
  },
  {
   "cell_type": "markdown",
   "id": "747b51f3",
   "metadata": {},
   "source": [
    "- The countplot reveals that customers using DSL are less likely to churn, while those with Fiber optic service show a significantly higher churn rate.\n",
    "- Customers with no internet service (likely using only phone plans) have the lowest churn, suggesting that simpler or lower-cost plans may lead to greater \n"
   ]
  },
  {
   "cell_type": "code",
   "execution_count": 16,
   "id": "95f61b7c",
   "metadata": {},
   "outputs": [
    {
     "data": {
      "image/png": "[encoded data removed]",
      "text/plain": [
       "<Figure size 1200x600 with 1 Axes>"
      ]
     },
     "metadata": {},
     "output_type": "display_data"
    }
   ],
   "source": [
    "fig, ax = plt.subplots(figsize=(12, 6))  # Create figure & axis first\n",
    "sns.boxplot(x='Churn', y='MonthlyCharges', hue='Contract', data=df, ax=ax)  # plot on ax\n",
    "ax.set_title('Monthly Charges vs Churn')  # set title on that ax\n",
    "plt.show()\n",
    "\n"
   ]
  },
  {
   "cell_type": "markdown",
   "id": "5687d909",
   "metadata": {},
   "source": [
    "- Month-to-month customers churn more than those on long-term contracts.\n",
    "- Higher monthly charges are associated with higher churn, particularly in customers on fixed contracts, suggesting that both pricing and contract flexibility are key churn drivers"
   ]
  },
  {
   "cell_type": "code",
   "execution_count": 17,
   "id": "d4501463",
   "metadata": {},
   "outputs": [
    {
     "data": {
      "text/plain": [
       "Text(0.5, 1.0, 'Tenure Distribution')"
      ]
     },
     "execution_count": 17,
     "metadata": {},
     "output_type": "execute_result"
    },
    {
     "data": {
      "image/png": "[encoded data removed]",
      "text/plain": [
       "<Figure size 640x480 with 1 Axes>"
      ]
     },
     "metadata": {},
     "output_type": "display_data"
    }
   ],
   "source": [
    "df['tenure'].hist(bins=25, grid=False)\n",
    "plt.title('Tenure Distribution')"
   ]
  },
  {
   "cell_type": "markdown",
   "id": "0116ab13",
   "metadata": {},
   "source": [
    "- The histogram of the tenure feature reveals that a large number of customers have very short tenures, particularly in the first 1–2 months, indicating early churn or quick cancellations.\n",
    "\n",
    "- After the initial spike, the distribution remains relatively flat across mid-range tenures, suggesting a steady retention pattern for a portion of the customer base.\n",
    "\n",
    "- A secondary spike appears around the 60-month mark, which may reflect a group of loyal, long-term customers who have stayed for 5 years or more.\n",
    "Overall, the distribution is moderately right-skewed, with a higher concentration of customers having shorter tenures than longer ones."
   ]
  },
  {
   "cell_type": "code",
   "execution_count": 18,
   "id": "d080329f",
   "metadata": {},
   "outputs": [
    {
     "data": {
      "text/plain": [
       "<Axes: xlabel='Churn', ylabel='tenure'>"
      ]
     },
     "execution_count": 18,
     "metadata": {},
     "output_type": "execute_result"
    },
    {
     "data": {
      "image/png": "[encoded data removed]",
      "text/plain": [
       "<Figure size 640x480 with 1 Axes>"
      ]
     },
     "metadata": {},
     "output_type": "display_data"
    }
   ],
   "source": [
    "sns.boxplot(x='Churn', y='tenure', data=df)"
   ]
  },
  {
   "cell_type": "markdown",
   "id": "b009e9cd",
   "metadata": {},
   "source": [
    "- The boxplot shows that churned customers generally have shorter tenures, with most falling between 0 to 20 months. This suggests many customers leave early in their subscription.\n",
    "\n",
    "- In contrast, non-churned customers tend to have longer tenures, with most staying between 20 to 60 months.\n",
    "\n",
    "- The presence of outliers among churned customers indicates that while churn is more common among newer users, a few long-term customers also decide to leave.\n",
    "\n",
    "- Overall, the plot highlights a clear relationship between low tenure and higher churn risk."
   ]
  },
  {
   "cell_type": "code",
   "execution_count": 19,
   "id": "961c9b36",
   "metadata": {},
   "outputs": [
    {
     "data": {
      "text/plain": [
       "<Axes: >"
      ]
     },
     "execution_count": 19,
     "metadata": {},
     "output_type": "execute_result"
    },
    {
     "data": {
      "image/png": "[encoded data removed]",
      "text/plain": [
       "<Figure size 640x480 with 1 Axes>"
      ]
     },
     "metadata": {},
     "output_type": "display_data"
    }
   ],
   "source": [
    "df['TotalCharges'].hist(bins=25, grid=False)"
   ]
  },
  {
   "cell_type": "markdown",
   "id": "7443e5fb",
   "metadata": {},
   "source": [
    "- The histogram of TotalCharges is heavily right-skewed, with a sharp spike near 0, indicating a large number of customers with very low total charges — likely those with short tenures.\n",
    "- Beyond the initial spike, the distribution gradually declines, and after around $2000, it appears more uniformly spread with fewer customers having very high total charges.\n",
    "- This pattern suggests that many customers leave early, before accumulating high charges, while long-term customers are fewer but contribute more revenue.\n",
    "By itself, this distribution does not strongly indicate a clear relationship with churn — that will require comparing TotalCharges across churn categories.n"
   ]
  },
  {
   "cell_type": "code",
   "execution_count": 20,
   "id": "320463d6",
   "metadata": {},
   "outputs": [
    {
     "data": {
      "text/plain": [
       "<Axes: xlabel='Churn', ylabel='TotalCharges'>"
      ]
     },
     "execution_count": 20,
     "metadata": {},
     "output_type": "execute_result"
    },
    {
     "data": {
      "image/png": "[encoded data removed]",
      "text/plain": [
       "<Figure size 640x480 with 1 Axes>"
      ]
     },
     "metadata": {},
     "output_type": "display_data"
    }
   ],
   "source": [
    "sns.boxplot(x='Churn', y='TotalCharges', data=df)"
   ]
  },
  {
   "cell_type": "markdown",
   "id": "9503323d",
   "metadata": {},
   "source": [
    "- The boxplot reveals that customers who churned generally had lower total charges, mostly concentrated below $2000. This suggests they likely left the service early.\n",
    "\n",
    "- In contrast, customers who did not churn show a wider range of total charges, with many paying up to $8000+, indicating longer tenure and continued service use.\n",
    "\n",
    "- There are several outliers among churned customers, but they are relatively few.\n",
    "Overall, this supports the idea that low total charges are associated with higher churn, possibly due to dissatisfaction early in the service lifecycle."
   ]
  },
  {
   "cell_type": "code",
   "execution_count": 21,
   "id": "dab85db6",
   "metadata": {},
   "outputs": [],
   "source": [
    "df.drop(columns=['customerID'], inplace=True) # drop customerID as it is not useful for analysis"
   ]
  },
  {
   "cell_type": "code",
   "execution_count": 22,
   "id": "b00a38f3",
   "metadata": {},
   "outputs": [
    {
     "data": {
      "application/vnd.microsoft.datawrangler.viewer.v0+json": {
       "columns": [
        {
         "name": "index",
         "rawType": "int64",
         "type": "integer"
        },
        {
         "name": "gender",
         "rawType": "object",
         "type": "string"
        },
        {
         "name": "SeniorCitizen",
         "rawType": "int64",
         "type": "integer"
        },
        {
         "name": "Partner",
         "rawType": "object",
         "type": "string"
        },
        {
         "name": "Dependents",
         "rawType": "object",
         "type": "string"
        },
        {
         "name": "tenure",
         "rawType": "int64",
         "type": "integer"
        },
        {
         "name": "PhoneService",
         "rawType": "object",
         "type": "string"
        },
        {
         "name": "MultipleLines",
         "rawType": "object",
         "type": "string"
        },
        {
         "name": "InternetService",
         "rawType": "object",
         "type": "string"
        },
        {
         "name": "OnlineSecurity",
         "rawType": "object",
         "type": "string"
        },
        {
         "name": "OnlineBackup",
         "rawType": "object",
         "type": "string"
        },
        {
         "name": "DeviceProtection",
         "rawType": "object",
         "type": "string"
        },
        {
         "name": "TechSupport",
         "rawType": "object",
         "type": "string"
        },
        {
         "name": "StreamingTV",
         "rawType": "object",
         "type": "string"
        },
        {
         "name": "StreamingMovies",
         "rawType": "object",
         "type": "string"
        },
        {
         "name": "Contract",
         "rawType": "object",
         "type": "string"
        },
        {
         "name": "PaperlessBilling",
         "rawType": "object",
         "type": "string"
        },
        {
         "name": "PaymentMethod",
         "rawType": "object",
         "type": "string"
        },
        {
         "name": "MonthlyCharges",
         "rawType": "float64",
         "type": "float"
        },
        {
         "name": "TotalCharges",
         "rawType": "float64",
         "type": "float"
        },
        {
         "name": "Churn",
         "rawType": "object",
         "type": "string"
        }
       ],
       "ref": "429b4400-fe50-40b6-968a-9cce20d464ab",
       "rows": [
        [
         "6896",
         "Female",
         "0",
         "No",
         "No",
         "1",
         "Yes",
         "No",
         "DSL",
         "No",
         "No",
         "No",
         "No",
         "No",
         "No",
         "Month-to-month",
         "No",
         "Mailed check",
         "43.95",
         "43.95",
         "Yes"
        ],
        [
         "315",
         "Male",
         "0",
         "Yes",
         "Yes",
         "51",
         "Yes",
         "Yes",
         "Fiber optic",
         "Yes",
         "Yes",
         "No",
         "Yes",
         "Yes",
         "Yes",
         "One year",
         "No",
         "Credit card (automatic)",
         "110.05",
         "5686.4",
         "No"
        ],
        [
         "4433",
         "Female",
         "0",
         "No",
         "No",
         "4",
         "Yes",
         "Yes",
         "Fiber optic",
         "No",
         "No",
         "No",
         "No",
         "No",
         "No",
         "Month-to-month",
         "Yes",
         "Electronic check",
         "75.65",
         "302.35",
         "No"
        ],
        [
         "3181",
         "Female",
         "0",
         "Yes",
         "No",
         "64",
         "Yes",
         "Yes",
         "DSL",
         "Yes",
         "Yes",
         "Yes",
         "Yes",
         "No",
         "Yes",
         "Two year",
         "Yes",
         "Mailed check",
         "81.3",
         "5129.3",
         "No"
        ],
        [
         "1274",
         "Female",
         "0",
         "Yes",
         "Yes",
         "62",
         "Yes",
         "Yes",
         "Fiber optic",
         "Yes",
         "No",
         "No",
         "No",
         "Yes",
         "Yes",
         "Two year",
         "Yes",
         "Bank transfer (automatic)",
         "101.15",
         "6638.35",
         "No"
        ],
        [
         "5186",
         "Female",
         "1",
         "No",
         "No",
         "1",
         "No",
         "No phone service",
         "DSL",
         "No",
         "No",
         "No",
         "No",
         "Yes",
         "No",
         "Month-to-month",
         "Yes",
         "Electronic check",
         "36.45",
         "36.45",
         "Yes"
        ],
        [
         "3250",
         "Male",
         "0",
         "Yes",
         "No",
         "11",
         "Yes",
         "No",
         "No",
         "No internet service",
         "No internet service",
         "No internet service",
         "No internet service",
         "No internet service",
         "No internet service",
         "One year",
         "Yes",
         "Mailed check",
         "20.55",
         "184.95",
         "No"
        ],
        [
         "747",
         "Female",
         "1",
         "No",
         "No",
         "3",
         "Yes",
         "No",
         "Fiber optic",
         "No",
         "No",
         "Yes",
         "No",
         "No",
         "No",
         "Month-to-month",
         "No",
         "Mailed check",
         "75.05",
         "202.9",
         "No"
        ],
        [
         "886",
         "Female",
         "1",
         "No",
         "No",
         "7",
         "Yes",
         "No",
         "Fiber optic",
         "No",
         "No",
         "Yes",
         "No",
         "Yes",
         "No",
         "Month-to-month",
         "Yes",
         "Electronic check",
         "84.35",
         "609.65",
         "No"
        ],
        [
         "6657",
         "Female",
         "0",
         "Yes",
         "No",
         "49",
         "Yes",
         "No",
         "No",
         "No internet service",
         "No internet service",
         "No internet service",
         "No internet service",
         "No internet service",
         "No internet service",
         "One year",
         "No",
         "Bank transfer (automatic)",
         "20.45",
         "900.9",
         "No"
        ]
       ],
       "shape": {
        "columns": 20,
        "rows": 10
       }
      },
      "text/html": [
       "<div>\n",
       "<style scoped>\n",
       "    .dataframe tbody tr th:only-of-type {\n",
       "        vertical-align: middle;\n",
       "    }\n",
       "\n",
       "    .dataframe tbody tr th {\n",
       "        vertical-align: top;\n",
       "    }\n",
       "\n",
       "    .dataframe thead th {\n",
       "        text-align: right;\n",
       "    }\n",
       "</style>\n",
       "<table border=\"1\" class=\"dataframe\">\n",
       "  <thead>\n",
       "    <tr style=\"text-align: right;\">\n",
       "      <th></th>\n",
       "      <th>gender</th>\n",
       "      <th>SeniorCitizen</th>\n",
       "      <th>Partner</th>\n",
       "      <th>Dependents</th>\n",
       "      <th>tenure</th>\n",
       "      <th>PhoneService</th>\n",
       "      <th>MultipleLines</th>\n",
       "      <th>InternetService</th>\n",
       "      <th>OnlineSecurity</th>\n",
       "      <th>OnlineBackup</th>\n",
       "      <th>DeviceProtection</th>\n",
       "      <th>TechSupport</th>\n",
       "      <th>StreamingTV</th>\n",
       "      <th>StreamingMovies</th>\n",
       "      <th>Contract</th>\n",
       "      <th>PaperlessBilling</th>\n",
       "      <th>PaymentMethod</th>\n",
       "      <th>MonthlyCharges</th>\n",
       "      <th>TotalCharges</th>\n",
       "      <th>Churn</th>\n",
       "    </tr>\n",
       "  </thead>\n",
       "  <tbody>\n",
       "    <tr>\n",
       "      <th>6896</th>\n",
       "      <td>Female</td>\n",
       "      <td>0</td>\n",
       "      <td>No</td>\n",
       "      <td>No</td>\n",
       "      <td>1</td>\n",
       "      <td>Yes</td>\n",
       "      <td>No</td>\n",
       "      <td>DSL</td>\n",
       "      <td>No</td>\n",
       "      <td>No</td>\n",
       "      <td>No</td>\n",
       "      <td>No</td>\n",
       "      <td>No</td>\n",
       "      <td>No</td>\n",
       "      <td>Month-to-month</td>\n",
       "      <td>No</td>\n",
       "      <td>Mailed check</td>\n",
       "      <td>43.95</td>\n",
       "      <td>43.95</td>\n",
       "      <td>Yes</td>\n",
       "    </tr>\n",
       "    <tr>\n",
       "      <th>315</th>\n",
       "      <td>Male</td>\n",
       "      <td>0</td>\n",
       "      <td>Yes</td>\n",
       "      <td>Yes</td>\n",
       "      <td>51</td>\n",
       "      <td>Yes</td>\n",
       "      <td>Yes</td>\n",
       "      <td>Fiber optic</td>\n",
       "      <td>Yes</td>\n",
       "      <td>Yes</td>\n",
       "      <td>No</td>\n",
       "      <td>Yes</td>\n",
       "      <td>Yes</td>\n",
       "      <td>Yes</td>\n",
       "      <td>One year</td>\n",
       "      <td>No</td>\n",
       "      <td>Credit card (automatic)</td>\n",
       "      <td>110.05</td>\n",
       "      <td>5686.40</td>\n",
       "      <td>No</td>\n",
       "    </tr>\n",
       "    <tr>\n",
       "      <th>4433</th>\n",
       "      <td>Female</td>\n",
       "      <td>0</td>\n",
       "      <td>No</td>\n",
       "      <td>No</td>\n",
       "      <td>4</td>\n",
       "      <td>Yes</td>\n",
       "      <td>Yes</td>\n",
       "      <td>Fiber optic</td>\n",
       "      <td>No</td>\n",
       "      <td>No</td>\n",
       "      <td>No</td>\n",
       "      <td>No</td>\n",
       "      <td>No</td>\n",
       "      <td>No</td>\n",
       "      <td>Month-to-month</td>\n",
       "      <td>Yes</td>\n",
       "      <td>Electronic check</td>\n",
       "      <td>75.65</td>\n",
       "      <td>302.35</td>\n",
       "      <td>No</td>\n",
       "    </tr>\n",
       "    <tr>\n",
       "      <th>3181</th>\n",
       "      <td>Female</td>\n",
       "      <td>0</td>\n",
       "      <td>Yes</td>\n",
       "      <td>No</td>\n",
       "      <td>64</td>\n",
       "      <td>Yes</td>\n",
       "      <td>Yes</td>\n",
       "      <td>DSL</td>\n",
       "      <td>Yes</td>\n",
       "      <td>Yes</td>\n",
       "      <td>Yes</td>\n",
       "      <td>Yes</td>\n",
       "      <td>No</td>\n",
       "      <td>Yes</td>\n",
       "      <td>Two year</td>\n",
       "      <td>Yes</td>\n",
       "      <td>Mailed check</td>\n",
       "      <td>81.30</td>\n",
       "      <td>5129.30</td>\n",
       "      <td>No</td>\n",
       "    </tr>\n",
       "    <tr>\n",
       "      <th>1274</th>\n",
       "      <td>Female</td>\n",
       "      <td>0</td>\n",
       "      <td>Yes</td>\n",
       "      <td>Yes</td>\n",
       "      <td>62</td>\n",
       "      <td>Yes</td>\n",
       "      <td>Yes</td>\n",
       "      <td>Fiber optic</td>\n",
       "      <td>Yes</td>\n",
       "      <td>No</td>\n",
       "      <td>No</td>\n",
       "      <td>No</td>\n",
       "      <td>Yes</td>\n",
       "      <td>Yes</td>\n",
       "      <td>Two year</td>\n",
       "      <td>Yes</td>\n",
       "      <td>Bank transfer (automatic)</td>\n",
       "      <td>101.15</td>\n",
       "      <td>6638.35</td>\n",
       "      <td>No</td>\n",
       "    </tr>\n",
       "    <tr>\n",
       "      <th>5186</th>\n",
       "      <td>Female</td>\n",
       "      <td>1</td>\n",
       "      <td>No</td>\n",
       "      <td>No</td>\n",
       "      <td>1</td>\n",
       "      <td>No</td>\n",
       "      <td>No phone service</td>\n",
       "      <td>DSL</td>\n",
       "      <td>No</td>\n",
       "      <td>No</td>\n",
       "      <td>No</td>\n",
       "      <td>No</td>\n",
       "      <td>Yes</td>\n",
       "      <td>No</td>\n",
       "      <td>Month-to-month</td>\n",
       "      <td>Yes</td>\n",
       "      <td>Electronic check</td>\n",
       "      <td>36.45</td>\n",
       "      <td>36.45</td>\n",
       "      <td>Yes</td>\n",
       "    </tr>\n",
       "    <tr>\n",
       "      <th>3250</th>\n",
       "      <td>Male</td>\n",
       "      <td>0</td>\n",
       "      <td>Yes</td>\n",
       "      <td>No</td>\n",
       "      <td>11</td>\n",
       "      <td>Yes</td>\n",
       "      <td>No</td>\n",
       "      <td>No</td>\n",
       "      <td>No internet service</td>\n",
       "      <td>No internet service</td>\n",
       "      <td>No internet service</td>\n",
       "      <td>No internet service</td>\n",
       "      <td>No internet service</td>\n",
       "      <td>No internet service</td>\n",
       "      <td>One year</td>\n",
       "      <td>Yes</td>\n",
       "      <td>Mailed check</td>\n",
       "      <td>20.55</td>\n",
       "      <td>184.95</td>\n",
       "      <td>No</td>\n",
       "    </tr>\n",
       "    <tr>\n",
       "      <th>747</th>\n",
       "      <td>Female</td>\n",
       "      <td>1</td>\n",
       "      <td>No</td>\n",
       "      <td>No</td>\n",
       "      <td>3</td>\n",
       "      <td>Yes</td>\n",
       "      <td>No</td>\n",
       "      <td>Fiber optic</td>\n",
       "      <td>No</td>\n",
       "      <td>No</td>\n",
       "      <td>Yes</td>\n",
       "      <td>No</td>\n",
       "      <td>No</td>\n",
       "      <td>No</td>\n",
       "      <td>Month-to-month</td>\n",
       "      <td>No</td>\n",
       "      <td>Mailed check</td>\n",
       "      <td>75.05</td>\n",
       "      <td>202.90</td>\n",
       "      <td>No</td>\n",
       "    </tr>\n",
       "    <tr>\n",
       "      <th>886</th>\n",
       "      <td>Female</td>\n",
       "      <td>1</td>\n",
       "      <td>No</td>\n",
       "      <td>No</td>\n",
       "      <td>7</td>\n",
       "      <td>Yes</td>\n",
       "      <td>No</td>\n",
       "      <td>Fiber optic</td>\n",
       "      <td>No</td>\n",
       "      <td>No</td>\n",
       "      <td>Yes</td>\n",
       "      <td>No</td>\n",
       "      <td>Yes</td>\n",
       "      <td>No</td>\n",
       "      <td>Month-to-month</td>\n",
       "      <td>Yes</td>\n",
       "      <td>Electronic check</td>\n",
       "      <td>84.35</td>\n",
       "      <td>609.65</td>\n",
       "      <td>No</td>\n",
       "    </tr>\n",
       "    <tr>\n",
       "      <th>6657</th>\n",
       "      <td>Female</td>\n",
       "      <td>0</td>\n",
       "      <td>Yes</td>\n",
       "      <td>No</td>\n",
       "      <td>49</td>\n",
       "      <td>Yes</td>\n",
       "      <td>No</td>\n",
       "      <td>No</td>\n",
       "      <td>No internet service</td>\n",
       "      <td>No internet service</td>\n",
       "      <td>No internet service</td>\n",
       "      <td>No internet service</td>\n",
       "      <td>No internet service</td>\n",
       "      <td>No internet service</td>\n",
       "      <td>One year</td>\n",
       "      <td>No</td>\n",
       "      <td>Bank transfer (automatic)</td>\n",
       "      <td>20.45</td>\n",
       "      <td>900.90</td>\n",
       "      <td>No</td>\n",
       "    </tr>\n",
       "  </tbody>\n",
       "</table>\n",
       "</div>"
      ],
      "text/plain": [
       "      gender  SeniorCitizen Partner Dependents  tenure PhoneService  \\\n",
       "6896  Female              0      No         No       1          Yes   \n",
       "315     Male              0     Yes        Yes      51          Yes   \n",
       "4433  Female              0      No         No       4          Yes   \n",
       "3181  Female              0     Yes         No      64          Yes   \n",
       "1274  Female              0     Yes        Yes      62          Yes   \n",
       "5186  Female              1      No         No       1           No   \n",
       "3250    Male              0     Yes         No      11          Yes   \n",
       "747   Female              1      No         No       3          Yes   \n",
       "886   Female              1      No         No       7          Yes   \n",
       "6657  Female              0     Yes         No      49          Yes   \n",
       "\n",
       "         MultipleLines InternetService       OnlineSecurity  \\\n",
       "6896                No             DSL                   No   \n",
       "315                Yes     Fiber optic                  Yes   \n",
       "4433               Yes     Fiber optic                   No   \n",
       "3181               Yes             DSL                  Yes   \n",
       "1274               Yes     Fiber optic                  Yes   \n",
       "5186  No phone service             DSL                   No   \n",
       "3250                No              No  No internet service   \n",
       "747                 No     Fiber optic                   No   \n",
       "886                 No     Fiber optic                   No   \n",
       "6657                No              No  No internet service   \n",
       "\n",
       "             OnlineBackup     DeviceProtection          TechSupport  \\\n",
       "6896                   No                   No                   No   \n",
       "315                   Yes                   No                  Yes   \n",
       "4433                   No                   No                   No   \n",
       "3181                  Yes                  Yes                  Yes   \n",
       "1274                   No                   No                   No   \n",
       "5186                   No                   No                   No   \n",
       "3250  No internet service  No internet service  No internet service   \n",
       "747                    No                  Yes                   No   \n",
       "886                    No                  Yes                   No   \n",
       "6657  No internet service  No internet service  No internet service   \n",
       "\n",
       "              StreamingTV      StreamingMovies        Contract  \\\n",
       "6896                   No                   No  Month-to-month   \n",
       "315                   Yes                  Yes        One year   \n",
       "4433                   No                   No  Month-to-month   \n",
       "3181                   No                  Yes        Two year   \n",
       "1274                  Yes                  Yes        Two year   \n",
       "5186                  Yes                   No  Month-to-month   \n",
       "3250  No internet service  No internet service        One year   \n",
       "747                    No                   No  Month-to-month   \n",
       "886                   Yes                   No  Month-to-month   \n",
       "6657  No internet service  No internet service        One year   \n",
       "\n",
       "     PaperlessBilling              PaymentMethod  MonthlyCharges  \\\n",
       "6896               No               Mailed check           43.95   \n",
       "315                No    Credit card (automatic)          110.05   \n",
       "4433              Yes           Electronic check           75.65   \n",
       "3181              Yes               Mailed check           81.30   \n",
       "1274              Yes  Bank transfer (automatic)          101.15   \n",
       "5186              Yes           Electronic check           36.45   \n",
       "3250              Yes               Mailed check           20.55   \n",
       "747                No               Mailed check           75.05   \n",
       "886               Yes           Electronic check           84.35   \n",
       "6657               No  Bank transfer (automatic)           20.45   \n",
       "\n",
       "      TotalCharges Churn  \n",
       "6896         43.95   Yes  \n",
       "315        5686.40    No  \n",
       "4433        302.35    No  \n",
       "3181       5129.30    No  \n",
       "1274       6638.35    No  \n",
       "5186         36.45   Yes  \n",
       "3250        184.95    No  \n",
       "747         202.90    No  \n",
       "886         609.65    No  \n",
       "6657        900.90    No  "
      ]
     },
     "execution_count": 22,
     "metadata": {},
     "output_type": "execute_result"
    }
   ],
   "source": [
    "df.sample(10)"
   ]
  },
  {
   "cell_type": "code",
   "execution_count": 23,
   "id": "ff335ba2",
   "metadata": {},
   "outputs": [
    {
     "data": {
      "text/plain": [
       "<Axes: xlabel='PhoneService', ylabel='count'>"
      ]
     },
     "execution_count": 23,
     "metadata": {},
     "output_type": "execute_result"
    },
    {
     "data": {
      "image/png": "[encoded data removed]",
      "text/plain": [
       "<Figure size 640x480 with 1 Axes>"
      ]
     },
     "metadata": {},
     "output_type": "display_data"
    }
   ],
   "source": [
    "sns.countplot(x='PhoneService', data=df, hue='Churn', palette='Set2')"
   ]
  },
  {
   "cell_type": "markdown",
   "id": "32b38aef",
   "metadata": {},
   "source": [
    "- Customers without phone service are a small group, and most of them did not churn. Among those with phone service, a larger portion stayed, but churn was also substantial simply because this group is much larger."
   ]
  },
  {
   "cell_type": "code",
   "execution_count": 24,
   "id": "f56284a5",
   "metadata": {},
   "outputs": [
    {
     "data": {
      "text/plain": [
       "<Axes: xlabel='MultipleLines', ylabel='count'>"
      ]
     },
     "execution_count": 24,
     "metadata": {},
     "output_type": "execute_result"
    },
    {
     "data": {
      "image/png": "[encoded data removed]",
      "text/plain": [
       "<Figure size 640x480 with 1 Axes>"
      ]
     },
     "metadata": {},
     "output_type": "display_data"
    }
   ],
   "source": [
    "sns.countplot(x='MultipleLines', data=df, hue='Churn', palette='Set2')"
   ]
  },
  {
   "cell_type": "markdown",
   "id": "fa05669a",
   "metadata": {},
   "source": [
    "- Customers without multiple lines form the largest group overall. While some of them did churn, the majority stayed with the service.\n",
    "- Customers with multiple lines also have a large presence, and a notable portion of them churned, but the number who stayed is still higher.\n",
    "- The group with no phone service is relatively small (around 500 users), and very few of them churned, making it less impactful in the churn pattern."
   ]
  },
  {
   "cell_type": "code",
   "execution_count": 25,
   "id": "59434383",
   "metadata": {},
   "outputs": [
    {
     "data": {
      "text/plain": [
       "<Axes: xlabel='OnlineSecurity', ylabel='count'>"
      ]
     },
     "execution_count": 25,
     "metadata": {},
     "output_type": "execute_result"
    },
    {
     "data": {
      "image/png": "[encoded data removed]",
      "text/plain": [
       "<Figure size 640x480 with 1 Axes>"
      ]
     },
     "metadata": {},
     "output_type": "display_data"
    }
   ],
   "source": [
    "sns.countplot(x='OnlineSecurity', data=df, hue='Churn')"
   ]
  },
  {
   "cell_type": "markdown",
   "id": "e6e1205b",
   "metadata": {},
   "source": [
    "- Customers without Online Security had a higher churn rate compared to those with the service. While a larger number of these customers remained, the churn among them is still significant.\n",
    "- In contrast, customers with Online Security show substantially lower churn, suggesting that this service may play an important role in customer retention.\n",
    "- For customers with No Internet Service, churn is very low, but this is likely because these users aren’t using internet-based services and may represent a different segment of the customer base."
   ]
  },
  {
   "cell_type": "code",
   "execution_count": 26,
   "id": "7c51a660",
   "metadata": {},
   "outputs": [
    {
     "data": {
      "text/plain": [
       "<Axes: xlabel='StreamingTV', ylabel='count'>"
      ]
     },
     "execution_count": 26,
     "metadata": {},
     "output_type": "execute_result"
    },
    {
     "data": {
      "image/png": "[encoded data removed]",
      "text/plain": [
       "<Figure size 640x480 with 1 Axes>"
      ]
     },
     "metadata": {},
     "output_type": "display_data"
    }
   ],
   "source": [
    "sns.countplot(x='StreamingTV', data=df, hue='Churn', palette='Set3')"
   ]
  },
  {
   "cell_type": "markdown",
   "id": "4ff763e9",
   "metadata": {},
   "source": [
    "- Customers who subscribed to StreamingTV show a higher total count, and while many of them stayed, a notable portion churned — indicating that having this service does not necessarily guarantee retention.\n",
    "- Interestingly, customers who did not have StreamingTV had a similar number of total users, but their churn rate appears slightly higher than those who did — although the difference isn't drastic.\n",
    "- Customers with No Internet Service have the lowest churn, but this segment is less relevant to churn analysis for streaming services, as they are not using internet-based features at all."
   ]
  },
  {
   "cell_type": "code",
   "execution_count": 27,
   "id": "afc47104",
   "metadata": {},
   "outputs": [],
   "source": [
    "df['Churn'] = df['Churn'].map({'Yes': 1, 'No': 0}) # convert Churn to binary for correlation analysis"
   ]
  },
  {
   "cell_type": "code",
   "execution_count": 28,
   "id": "511e2ec8",
   "metadata": {},
   "outputs": [
    {
     "data": {
      "text/plain": [
       "Text(0.5, 1.0, 'Correlation heatmap of Churned Customers')"
      ]
     },
     "execution_count": 28,
     "metadata": {},
     "output_type": "execute_result"
    },
    {
     "data": {
      "image/png": "[encoded data removed]",
      "text/plain": [
       "<Figure size 1200x800 with 2 Axes>"
      ]
     },
     "metadata": {},
     "output_type": "display_data"
    }
   ],
   "source": [
    "corr = df.select_dtypes(include='number').corr() # select only numeric columns for correlation analysis\n",
    "plt.figure(figsize=(12, 8))\n",
    "sns.heatmap(corr, annot=True, cmap='coolwarm', square=True)\n",
    "plt.title(\"Correlation heatmap of Churned Customers\")"
   ]
  },
  {
   "cell_type": "markdown",
   "id": "cbfe216b",
   "metadata": {},
   "source": [
    "- Tenure vs. TotalCharges (0.83):\n",
    "There is a strong positive correlation between tenure and total charges. This indicates that the longer a customer stays, the more they tend to spend.\n",
    "\n",
    "- MonthlyCharges vs. TotalCharges (0.65):\n",
    "A moderate positive correlation suggests that customers with higher monthly charges accumulate greater total charges over time.\n",
    "\n",
    "- Tenure vs. Churn (~ -0.35):\n",
    "A moderate negative correlation shows that customers with longer tenure are less likely to churn.\n",
    "\n",
    "- TotalCharges vs. Churn (~ -0.2):\n",
    "A weak negative correlation suggests that customers who have paid less in total are slightly more likely to churn — likely due to shorter subscription durations.\n",
    "\n",
    "- MonthlyCharges vs. Churn (~ 0.2):\n",
    "A weak positive correlation indicates that customers with higher monthly charges may be slightly more likely to churn.\n",
    "\n",
    "- SeniorCitizen vs. Churn (~ 0.15):\n",
    "A small positive correlation suggests that senior citizens are slightly more likely to churn than non-senior customers.\n",
    "\n",
    "- SeniorCitizen vs. TotalCharges (~ 0.2):\n",
    "A weak positive correlation, showing that senior citizens tend to have slightly higher total charges, possibly due to specific service plans."
   ]
  },
  {
   "cell_type": "markdown",
   "id": "ef24b4ef",
   "metadata": {},
   "source": [
    "# Encoding categorical columns for machine learning models "
   ]
  },
  {
   "cell_type": "code",
   "execution_count": 29,
   "id": "0179201b",
   "metadata": {},
   "outputs": [
    {
     "data": {
      "text/plain": [
       "array(['Yes', 'No'], dtype=object)"
      ]
     },
     "execution_count": 29,
     "metadata": {},
     "output_type": "execute_result"
    }
   ],
   "source": [
    "df['Partner'].unique()"
   ]
  },
  {
   "cell_type": "code",
   "execution_count": 30,
   "id": "6cff947b",
   "metadata": {},
   "outputs": [
    {
     "data": {
      "application/vnd.microsoft.datawrangler.viewer.v0+json": {
       "columns": [
        {
         "name": "index",
         "rawType": "object",
         "type": "string"
        },
        {
         "name": "0",
         "rawType": "object",
         "type": "unknown"
        }
       ],
       "ref": "65fe996b-1744-40e1-84c4-ead17e90995b",
       "rows": [
        [
         "gender",
         "object"
        ],
        [
         "SeniorCitizen",
         "int64"
        ],
        [
         "Partner",
         "object"
        ],
        [
         "Dependents",
         "object"
        ],
        [
         "tenure",
         "int64"
        ],
        [
         "PhoneService",
         "object"
        ],
        [
         "MultipleLines",
         "object"
        ],
        [
         "InternetService",
         "object"
        ],
        [
         "OnlineSecurity",
         "object"
        ],
        [
         "OnlineBackup",
         "object"
        ],
        [
         "DeviceProtection",
         "object"
        ],
        [
         "TechSupport",
         "object"
        ],
        [
         "StreamingTV",
         "object"
        ],
        [
         "StreamingMovies",
         "object"
        ],
        [
         "Contract",
         "object"
        ],
        [
         "PaperlessBilling",
         "object"
        ],
        [
         "PaymentMethod",
         "object"
        ],
        [
         "MonthlyCharges",
         "float64"
        ],
        [
         "TotalCharges",
         "float64"
        ],
        [
         "Churn",
         "int64"
        ]
       ],
       "shape": {
        "columns": 1,
        "rows": 20
       }
      },
      "text/plain": [
       "gender               object\n",
       "SeniorCitizen         int64\n",
       "Partner              object\n",
       "Dependents           object\n",
       "tenure                int64\n",
       "PhoneService         object\n",
       "MultipleLines        object\n",
       "InternetService      object\n",
       "OnlineSecurity       object\n",
       "OnlineBackup         object\n",
       "DeviceProtection     object\n",
       "TechSupport          object\n",
       "StreamingTV          object\n",
       "StreamingMovies      object\n",
       "Contract             object\n",
       "PaperlessBilling     object\n",
       "PaymentMethod        object\n",
       "MonthlyCharges      float64\n",
       "TotalCharges        float64\n",
       "Churn                 int64\n",
       "dtype: object"
      ]
     },
     "execution_count": 30,
     "metadata": {},
     "output_type": "execute_result"
    }
   ],
   "source": [
    "df.dtypes"
   ]
  },
  {
   "cell_type": "code",
   "execution_count": 31,
   "id": "530d7772",
   "metadata": {},
   "outputs": [],
   "source": [
    "# label encoding for two categorical variables \n",
    "df['Dependents_encoded'] = df['Dependents'].map({'Yes': 1, 'No': 0})\n",
    "df['PhoneService_encoded'] = df['PhoneService'].map({'Yes': 1, 'No': 0})\n",
    "df['PaperlessBilling_encoded'] = df['PaperlessBilling'].map({'Yes': 1, 'No': 0})\n",
    "df['Partner_encoded'] = df['Partner'].map({'Yes': 1, 'No': 0})"
   ]
  },
  {
   "cell_type": "code",
   "execution_count": 32,
   "id": "f6f4876c",
   "metadata": {},
   "outputs": [],
   "source": [
    "df['Gender_encoded'] = df['gender'].map({'Female': 1, 'Male': 0})"
   ]
  },
  {
   "cell_type": "code",
   "execution_count": 33,
   "id": "c2b7cc40",
   "metadata": {},
   "outputs": [
    {
     "data": {
      "application/vnd.microsoft.datawrangler.viewer.v0+json": {
       "columns": [
        {
         "name": "index",
         "rawType": "int64",
         "type": "integer"
        },
        {
         "name": "gender",
         "rawType": "object",
         "type": "string"
        },
        {
         "name": "SeniorCitizen",
         "rawType": "int64",
         "type": "integer"
        },
        {
         "name": "Partner",
         "rawType": "object",
         "type": "string"
        },
        {
         "name": "Dependents",
         "rawType": "object",
         "type": "string"
        },
        {
         "name": "tenure",
         "rawType": "int64",
         "type": "integer"
        },
        {
         "name": "PhoneService",
         "rawType": "object",
         "type": "string"
        },
        {
         "name": "MultipleLines",
         "rawType": "object",
         "type": "string"
        },
        {
         "name": "InternetService",
         "rawType": "object",
         "type": "string"
        },
        {
         "name": "OnlineSecurity",
         "rawType": "object",
         "type": "string"
        },
        {
         "name": "OnlineBackup",
         "rawType": "object",
         "type": "string"
        },
        {
         "name": "DeviceProtection",
         "rawType": "object",
         "type": "string"
        },
        {
         "name": "TechSupport",
         "rawType": "object",
         "type": "string"
        },
        {
         "name": "StreamingTV",
         "rawType": "object",
         "type": "string"
        },
        {
         "name": "StreamingMovies",
         "rawType": "object",
         "type": "string"
        },
        {
         "name": "Contract",
         "rawType": "object",
         "type": "string"
        },
        {
         "name": "PaperlessBilling",
         "rawType": "object",
         "type": "string"
        },
        {
         "name": "PaymentMethod",
         "rawType": "object",
         "type": "string"
        },
        {
         "name": "MonthlyCharges",
         "rawType": "float64",
         "type": "float"
        },
        {
         "name": "TotalCharges",
         "rawType": "float64",
         "type": "float"
        },
        {
         "name": "Churn",
         "rawType": "int64",
         "type": "integer"
        },
        {
         "name": "Dependents_encoded",
         "rawType": "int64",
         "type": "integer"
        },
        {
         "name": "PhoneService_encoded",
         "rawType": "int64",
         "type": "integer"
        },
        {
         "name": "PaperlessBilling_encoded",
         "rawType": "int64",
         "type": "integer"
        },
        {
         "name": "Partner_encoded",
         "rawType": "int64",
         "type": "integer"
        },
        {
         "name": "Gender_encoded",
         "rawType": "int64",
         "type": "integer"
        }
       ],
       "ref": "d8705eb2-b500-477d-affc-c8410f837fb4",
       "rows": [
        [
         "0",
         "Female",
         "0",
         "Yes",
         "No",
         "1",
         "No",
         "No phone service",
         "DSL",
         "No",
         "Yes",
         "No",
         "No",
         "No",
         "No",
         "Month-to-month",
         "Yes",
         "Electronic check",
         "29.85",
         "29.85",
         "0",
         "0",
         "0",
         "1",
         "1",
         "1"
        ],
        [
         "1",
         "Male",
         "0",
         "No",
         "No",
         "34",
         "Yes",
         "No",
         "DSL",
         "Yes",
         "No",
         "Yes",
         "No",
         "No",
         "No",
         "One year",
         "No",
         "Mailed check",
         "56.95",
         "1889.5",
         "0",
         "0",
         "1",
         "0",
         "0",
         "0"
        ],
        [
         "2",
         "Male",
         "0",
         "No",
         "No",
         "2",
         "Yes",
         "No",
         "DSL",
         "Yes",
         "Yes",
         "No",
         "No",
         "No",
         "No",
         "Month-to-month",
         "Yes",
         "Mailed check",
         "53.85",
         "108.15",
         "1",
         "0",
         "1",
         "1",
         "0",
         "0"
        ],
        [
         "3",
         "Male",
         "0",
         "No",
         "No",
         "45",
         "No",
         "No phone service",
         "DSL",
         "Yes",
         "No",
         "Yes",
         "Yes",
         "No",
         "No",
         "One year",
         "No",
         "Bank transfer (automatic)",
         "42.3",
         "1840.75",
         "0",
         "0",
         "0",
         "0",
         "0",
         "0"
        ],
        [
         "4",
         "Female",
         "0",
         "No",
         "No",
         "2",
         "Yes",
         "No",
         "Fiber optic",
         "No",
         "No",
         "No",
         "No",
         "No",
         "No",
         "Month-to-month",
         "Yes",
         "Electronic check",
         "70.7",
         "151.65",
         "1",
         "0",
         "1",
         "1",
         "0",
         "1"
        ]
       ],
       "shape": {
        "columns": 25,
        "rows": 5
       }
      },
      "text/html": [
       "<div>\n",
       "<style scoped>\n",
       "    .dataframe tbody tr th:only-of-type {\n",
       "        vertical-align: middle;\n",
       "    }\n",
       "\n",
       "    .dataframe tbody tr th {\n",
       "        vertical-align: top;\n",
       "    }\n",
       "\n",
       "    .dataframe thead th {\n",
       "        text-align: right;\n",
       "    }\n",
       "</style>\n",
       "<table border=\"1\" class=\"dataframe\">\n",
       "  <thead>\n",
       "    <tr style=\"text-align: right;\">\n",
       "      <th></th>\n",
       "      <th>gender</th>\n",
       "      <th>SeniorCitizen</th>\n",
       "      <th>Partner</th>\n",
       "      <th>Dependents</th>\n",
       "      <th>tenure</th>\n",
       "      <th>PhoneService</th>\n",
       "      <th>MultipleLines</th>\n",
       "      <th>InternetService</th>\n",
       "      <th>OnlineSecurity</th>\n",
       "      <th>OnlineBackup</th>\n",
       "      <th>...</th>\n",
       "      <th>PaperlessBilling</th>\n",
       "      <th>PaymentMethod</th>\n",
       "      <th>MonthlyCharges</th>\n",
       "      <th>TotalCharges</th>\n",
       "      <th>Churn</th>\n",
       "      <th>Dependents_encoded</th>\n",
       "      <th>PhoneService_encoded</th>\n",
       "      <th>PaperlessBilling_encoded</th>\n",
       "      <th>Partner_encoded</th>\n",
       "      <th>Gender_encoded</th>\n",
       "    </tr>\n",
       "  </thead>\n",
       "  <tbody>\n",
       "    <tr>\n",
       "      <th>0</th>\n",
       "      <td>Female</td>\n",
       "      <td>0</td>\n",
       "      <td>Yes</td>\n",
       "      <td>No</td>\n",
       "      <td>1</td>\n",
       "      <td>No</td>\n",
       "      <td>No phone service</td>\n",
       "      <td>DSL</td>\n",
       "      <td>No</td>\n",
       "      <td>Yes</td>\n",
       "      <td>...</td>\n",
       "      <td>Yes</td>\n",
       "      <td>Electronic check</td>\n",
       "      <td>29.85</td>\n",
       "      <td>29.85</td>\n",
       "      <td>0</td>\n",
       "      <td>0</td>\n",
       "      <td>0</td>\n",
       "      <td>1</td>\n",
       "      <td>1</td>\n",
       "      <td>1</td>\n",
       "    </tr>\n",
       "    <tr>\n",
       "      <th>1</th>\n",
       "      <td>Male</td>\n",
       "      <td>0</td>\n",
       "      <td>No</td>\n",
       "      <td>No</td>\n",
       "      <td>34</td>\n",
       "      <td>Yes</td>\n",
       "      <td>No</td>\n",
       "      <td>DSL</td>\n",
       "      <td>Yes</td>\n",
       "      <td>No</td>\n",
       "      <td>...</td>\n",
       "      <td>No</td>\n",
       "      <td>Mailed check</td>\n",
       "      <td>56.95</td>\n",
       "      <td>1889.50</td>\n",
       "      <td>0</td>\n",
       "      <td>0</td>\n",
       "      <td>1</td>\n",
       "      <td>0</td>\n",
       "      <td>0</td>\n",
       "      <td>0</td>\n",
       "    </tr>\n",
       "    <tr>\n",
       "      <th>2</th>\n",
       "      <td>Male</td>\n",
       "      <td>0</td>\n",
       "      <td>No</td>\n",
       "      <td>No</td>\n",
       "      <td>2</td>\n",
       "      <td>Yes</td>\n",
       "      <td>No</td>\n",
       "      <td>DSL</td>\n",
       "      <td>Yes</td>\n",
       "      <td>Yes</td>\n",
       "      <td>...</td>\n",
       "      <td>Yes</td>\n",
       "      <td>Mailed check</td>\n",
       "      <td>53.85</td>\n",
       "      <td>108.15</td>\n",
       "      <td>1</td>\n",
       "      <td>0</td>\n",
       "      <td>1</td>\n",
       "      <td>1</td>\n",
       "      <td>0</td>\n",
       "      <td>0</td>\n",
       "    </tr>\n",
       "    <tr>\n",
       "      <th>3</th>\n",
       "      <td>Male</td>\n",
       "      <td>0</td>\n",
       "      <td>No</td>\n",
       "      <td>No</td>\n",
       "      <td>45</td>\n",
       "      <td>No</td>\n",
       "      <td>No phone service</td>\n",
       "      <td>DSL</td>\n",
       "      <td>Yes</td>\n",
       "      <td>No</td>\n",
       "      <td>...</td>\n",
       "      <td>No</td>\n",
       "      <td>Bank transfer (automatic)</td>\n",
       "      <td>42.30</td>\n",
       "      <td>1840.75</td>\n",
       "      <td>0</td>\n",
       "      <td>0</td>\n",
       "      <td>0</td>\n",
       "      <td>0</td>\n",
       "      <td>0</td>\n",
       "      <td>0</td>\n",
       "    </tr>\n",
       "    <tr>\n",
       "      <th>4</th>\n",
       "      <td>Female</td>\n",
       "      <td>0</td>\n",
       "      <td>No</td>\n",
       "      <td>No</td>\n",
       "      <td>2</td>\n",
       "      <td>Yes</td>\n",
       "      <td>No</td>\n",
       "      <td>Fiber optic</td>\n",
       "      <td>No</td>\n",
       "      <td>No</td>\n",
       "      <td>...</td>\n",
       "      <td>Yes</td>\n",
       "      <td>Electronic check</td>\n",
       "      <td>70.70</td>\n",
       "      <td>151.65</td>\n",
       "      <td>1</td>\n",
       "      <td>0</td>\n",
       "      <td>1</td>\n",
       "      <td>1</td>\n",
       "      <td>0</td>\n",
       "      <td>1</td>\n",
       "    </tr>\n",
       "  </tbody>\n",
       "</table>\n",
       "<p>5 rows × 25 columns</p>\n",
       "</div>"
      ],
      "text/plain": [
       "   gender  SeniorCitizen Partner Dependents  tenure PhoneService  \\\n",
       "0  Female              0     Yes         No       1           No   \n",
       "1    Male              0      No         No      34          Yes   \n",
       "2    Male              0      No         No       2          Yes   \n",
       "3    Male              0      No         No      45           No   \n",
       "4  Female              0      No         No       2          Yes   \n",
       "\n",
       "      MultipleLines InternetService OnlineSecurity OnlineBackup  ...  \\\n",
       "0  No phone service             DSL             No          Yes  ...   \n",
       "1                No             DSL            Yes           No  ...   \n",
       "2                No             DSL            Yes          Yes  ...   \n",
       "3  No phone service             DSL            Yes           No  ...   \n",
       "4                No     Fiber optic             No           No  ...   \n",
       "\n",
       "  PaperlessBilling              PaymentMethod MonthlyCharges TotalCharges  \\\n",
       "0              Yes           Electronic check          29.85        29.85   \n",
       "1               No               Mailed check          56.95      1889.50   \n",
       "2              Yes               Mailed check          53.85       108.15   \n",
       "3               No  Bank transfer (automatic)          42.30      1840.75   \n",
       "4              Yes           Electronic check          70.70       151.65   \n",
       "\n",
       "  Churn Dependents_encoded PhoneService_encoded  PaperlessBilling_encoded  \\\n",
       "0     0                  0                    0                         1   \n",
       "1     0                  0                    1                         0   \n",
       "2     1                  0                    1                         1   \n",
       "3     0                  0                    0                         0   \n",
       "4     1                  0                    1                         1   \n",
       "\n",
       "   Partner_encoded  Gender_encoded  \n",
       "0                1               1  \n",
       "1                0               0  \n",
       "2                0               0  \n",
       "3                0               0  \n",
       "4                0               1  \n",
       "\n",
       "[5 rows x 25 columns]"
      ]
     },
     "execution_count": 33,
     "metadata": {},
     "output_type": "execute_result"
    }
   ],
   "source": [
    "df.head()"
   ]
  },
  {
   "cell_type": "code",
   "execution_count": 34,
   "id": "0d6f1e98",
   "metadata": {},
   "outputs": [],
   "source": [
    "# one-hot encoding for more than two categorical variables\n",
    "df = pd.get_dummies(df, columns=[\n",
    "    'MultipleLines', 'InternetService', 'OnlineSecurity', 'OnlineBackup',\n",
    "    'DeviceProtection', 'TechSupport', 'StreamingTV', 'StreamingMovies',\n",
    "    'Contract', 'PaymentMethod'\n",
    "], drop_first=True)\n"
   ]
  },
  {
   "cell_type": "markdown",
   "id": "e5c8f750",
   "metadata": {},
   "source": [
    "# Model Training"
   ]
  },
  {
   "cell_type": "code",
   "execution_count": 35,
   "id": "342672a3",
   "metadata": {},
   "outputs": [],
   "source": [
    "X = df.drop('Churn', axis=1)  # Features\n",
    "y = df['Churn']               # Target variable (0 = no churn, 1 = churn)"
   ]
  },
  {
   "cell_type": "code",
   "execution_count": 36,
   "id": "4c99a237",
   "metadata": {},
   "outputs": [],
   "source": [
    "X = X.drop(columns=['Dependents','PhoneService','PaperlessBilling','Partner']) # Drop original categorical columns"
   ]
  },
  {
   "cell_type": "code",
   "execution_count": 37,
   "id": "732b89d0",
   "metadata": {},
   "outputs": [],
   "source": [
    "X = X.drop(columns=['gender'])"
   ]
  },
  {
   "cell_type": "code",
   "execution_count": 38,
   "id": "05fb1877",
   "metadata": {},
   "outputs": [],
   "source": [
    "x_train, x_test, y_train, y_test = train_test_split(X, y, test_size=0.2, random_state=42)"
   ]
  },
  {
   "cell_type": "code",
   "execution_count": 39,
   "id": "1d004663",
   "metadata": {},
   "outputs": [],
   "source": [
    "num_cols = ['tenure', 'MonthlyCharges', 'TotalCharges']\n",
    "scaler = StandardScaler()\n",
    "x_train[num_cols] = scaler.fit_transform(x_train[num_cols])\n",
    "x_test[num_cols] = scaler.transform(x_test[num_cols])"
   ]
  },
  {
   "cell_type": "code",
   "execution_count": 40,
   "id": "a42fcd27",
   "metadata": {},
   "outputs": [
    {
     "data": {
      "application/vnd.microsoft.datawrangler.viewer.v0+json": {
       "columns": [
        {
         "name": "Churn",
         "rawType": "int64",
         "type": "integer"
        },
        {
         "name": "proportion",
         "rawType": "float64",
         "type": "float"
        }
       ],
       "ref": "e224a203-a081-41ed-8aa2-f5aee91086c9",
       "rows": [
        [
         "0",
         "0.7342150170648464"
        ],
        [
         "1",
         "0.26578498293515357"
        ]
       ],
       "shape": {
        "columns": 1,
        "rows": 2
       }
      },
      "text/plain": [
       "Churn\n",
       "0    0.734215\n",
       "1    0.265785\n",
       "Name: proportion, dtype: float64"
      ]
     },
     "execution_count": 40,
     "metadata": {},
     "output_type": "execute_result"
    }
   ],
   "source": [
    "y.value_counts(normalize=True)\n"
   ]
  },
  {
   "cell_type": "code",
   "execution_count": null,
   "id": "54365d4f",
   "metadata": {},
   "outputs": [
    {
     "name": "stdout",
     "output_type": "stream",
     "text": [
      "Best parameters for Logistic Regression: {'C': 10, 'solver': 'liblinear'}\n"
     ]
    }
   ],
   "source": [
    "models = [LogisticRegression(), SVC(), DecisionTreeClassifier(), RandomForestClassifier(), KNeighborsClassifier()]\n",
    "model_names = ['Logistic Regression', 'SVM', 'Decision Tree', 'Random Forest', 'KNN']\n",
    "\n",
    "# to get the best parameters for each model using GridSearchCV\n",
    "param_grid = {\n",
    "    'Logistic Regression': {'C': [0.1, 1, 10],'solver': ['liblinear']},\n",
    "    'SVM': {'C': [0.1, 1, 10], 'kernel': ['linear', 'rbf']},\n",
    "    'Decision Tree': {'max_depth': [None, 5, 10], 'min_samples_split': [2,3,4]},\n",
    "    'Random Forest': {'n_estimators': [10, 50], 'max_depth': [None, 5, 10]},\n",
    "    'KNN': {'n_neighbors': [3, 5, 7],'weights': ['uniform','distance'],'p': [1, 2] } # Manhattan (1) and Euclidean (2)\n",
    "}\n",
    "best_models = []\n",
    "for model, model_name in zip(models, model_names):\n",
    "    grid = GridSearchCV(model, param_grid[model_name], cv=5)\n",
    "    grid.fit(x_train, y_train)\n",
    "    print(f\"Best parameters for {model_name}: {grid.best_params_}\")\n",
    "    best_models.append((model_name, grid.best_estimator_))\n",
    "\n",
    "models_scores = []\n",
    "for model_name, model in best_models:\n",
    "    model.fit(x_train, y_train)\n",
    "    y_pred = model.predict(x_test)\n",
    "    acc = accuracy_score(y_test, y_pred)\n",
    "    prec = precision_score(y_test, y_pred)\n",
    "    rec = recall_score(y_test, y_pred)\n",
    "    f1 = f1_score(y_test, y_pred)\n",
    "    print(f\"\\n🔹 {model_name}\")\n",
    "    print(f\"  Accuracy:  {acc:.2f}\")\n",
    "    print(f\"  Precision: {prec:.2f}\")\n",
    "    print(f\"  Recall:    {rec:.2f}\")\n",
    "    print(f\"  F1 Score:  {f1:.2f}\")\n",
    "    models_scores.append([model_name, acc])\n",
    "\n",
    "    cm = confusion_matrix(y_test, y_pred)\n",
    "    disp = ConfusionMatrixDisplay(confusion_matrix=cm, display_labels=model.classes_)\n",
    "    disp.plot(cmap='Blues')\n",
    "\n",
    "sorted_models = sorted(models_scores, key=lambda x: x[1], reverse=True)\n",
    "for model in sorted_models:\n",
    "    print(\"Accuracy Score: \",f'{model[0]} : {model[1]:.2f}')\n",
    "\n",
    "print(f\"Best parameters for {model_name}: {grid.best_params_}\")"
   ]
  },
  {
   "cell_type": "code",
   "execution_count": null,
   "id": "8e5a5b08",
   "metadata": {},
   "outputs": [
    {
     "name": "stdout",
     "output_type": "stream",
     "text": [
      "Results saved to model_results.txt\n"
     ]
    }
   ],
   "source": [
    "# saving the model\n",
    "with open('model_results2.txt', 'w') as f:\n",
    "    for model_name, model in best_models:\n",
    "        model.fit(x_train, y_train)\n",
    "        y_pred = model.predict(x_test)\n",
    "        acc = accuracy_score(y_test, y_pred)\n",
    "        prec = precision_score(y_test, y_pred)\n",
    "        rec = recall_score(y_test, y_pred)\n",
    "        f1 = f1_score(y_test, y_pred)\n",
    "\n",
    "        f.write(f\"Model: {model_name}\\n\")\n",
    "        f.write(f\"  Accuracy:  {acc:.2f}\\n\")\n",
    "        f.write(f\"  Precision: {prec:.2f}\\n\")\n",
    "        f.write(f\"  Recall:    {rec:.2f}\\n\")\n",
    "        f.write(f\"  F1 Score:  {f1:.2f}\\n\")\n",
    "        f.write(\"=\"*30 + \"\\n\")\n",
    "\n",
    "print(\"Results saved to model_results.txt\")\n"
   ]
  }
 ],
 "metadata": {
  "kernelspec": {
   "display_name": "python_eda",
   "language": "python",
   "name": "python3"
  },
  "language_info": {
   "codemirror_mode": {
    "name": "ipython",
    "version": 3
   },
   "file_extension": ".py",
   "mimetype": "text/x-python",
   "name": "python",
   "nbconvert_exporter": "python",
   "pygments_lexer": "ipython3",
   "version": "3.11.13"
  }
 },
 "nbformat": 4,
 "nbformat_minor": 5
}
